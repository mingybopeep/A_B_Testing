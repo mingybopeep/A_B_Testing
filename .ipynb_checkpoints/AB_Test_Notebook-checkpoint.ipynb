{
 "cells": [
  {
   "cell_type": "markdown",
   "metadata": {},
   "source": [
    "# AB Testing Project\n",
    "I have found an A/B dataset on kaggle.com, I am going to perform some hypothesis testing to compare the A/B tests and derive meaningful insights. \n",
    "\n",
    "**Purpose of this notebook:**\n",
    "- Demonstrate my understanding of statistics in a business context. \n",
    "- Demonstrate my understanding of python in a data analysis context.\n",
    "\n",
    "A dataset from kaggle.com has been used for this analysis. \n",
    "\n",
    "# Project \n",
    "## A/B Testing with Cookie Cats Dataset\n",
    "### Problem Statement\n",
    "Cookie Cats is an online mobile game. The dev team have decided that they want to see how changing a feature will affect their players. The feature being changed is the in-game level at which the player meets a gate. They want to understand the effects of a player encountering the gate later in the game (level 40) compared to earlier (level 30). The purpose of this analysis is to investigate whether there is a statistically significant effect of gate placement on player retention.\n",
    "\n",
    "### Data\n",
    "In order to make it clear what the data is showing, a description of each field / column has been added: \n",
    "- userid: The UUID of a given player. \n",
    "- version: This field refers to the A/B group, and contains either 'gate_30' or 'gate_40' as a value, the number referring to the level. \n",
    "- sum_gamerounds: This is the total number of rounds of Cookie Cats completed by a player during the first 14 days after install. \n",
    "- retention_1: Boolean value whether or not a player came back to play 1 day after installing. \n",
    "- retention_7: Boolean value whether or not a player came back to play 7 days after installing. \n",
    "\n",
    "**What relationships can be explored in this data to answer the problem statement? **\n",
    "1. Effect of 'version' on 'sum_gamerounds'. \n",
    "2. Effect of 'version' on 'retention_1'. \n",
    "3. Effect of 'version' on 'retention_7'. \n",
    "\n",
    "### Hypotheses \n",
    "Measuring the effect of version on sum_gamerounds: \n",
    "- H0: Gate placement at level 40 does not have an effect on the number of rounds completed by a user vs placement at level 30. \n",
    "- H1: Gate placement at level 40 does have an effect on the number of rounds completed by a user vs placement at level 30. \n",
    "\n",
    "Measuring the effect of version on retention_1: \n",
    "- H0: Gate placement at level 40 does not have an effect on the 1 day retention of a user vs level 30. \n",
    "- H1: Gate placement at level 40 does have an effect on the 1 day retention of a user vs level 30. \n",
    "\n",
    "Measuring the effect of version on retention_2: \n",
    "- H0: Gate placement at level 40 does not have an effect on the 7 day retention of a user vs level 30. \n",
    "- H1: Gate placement at level 40 does have an effect on the 7 day retention of a user vs level 30. \n",
    "\n",
    "### Analysis"
   ]
  },
  {
   "cell_type": "code",
   "execution_count": 29,
   "metadata": {},
   "outputs": [
    {
     "data": {
      "text/html": [
       "<div>\n",
       "<style scoped>\n",
       "    .dataframe tbody tr th:only-of-type {\n",
       "        vertical-align: middle;\n",
       "    }\n",
       "\n",
       "    .dataframe tbody tr th {\n",
       "        vertical-align: top;\n",
       "    }\n",
       "\n",
       "    .dataframe thead th {\n",
       "        text-align: right;\n",
       "    }\n",
       "</style>\n",
       "<table border=\"1\" class=\"dataframe\">\n",
       "  <thead>\n",
       "    <tr style=\"text-align: right;\">\n",
       "      <th></th>\n",
       "      <th>userid</th>\n",
       "      <th>version</th>\n",
       "      <th>sum_gamerounds</th>\n",
       "      <th>retention_1</th>\n",
       "      <th>retention_7</th>\n",
       "    </tr>\n",
       "  </thead>\n",
       "  <tbody>\n",
       "    <tr>\n",
       "      <th>0</th>\n",
       "      <td>116</td>\n",
       "      <td>gate_30</td>\n",
       "      <td>3</td>\n",
       "      <td>False</td>\n",
       "      <td>False</td>\n",
       "    </tr>\n",
       "    <tr>\n",
       "      <th>1</th>\n",
       "      <td>337</td>\n",
       "      <td>gate_30</td>\n",
       "      <td>38</td>\n",
       "      <td>True</td>\n",
       "      <td>False</td>\n",
       "    </tr>\n",
       "    <tr>\n",
       "      <th>2</th>\n",
       "      <td>377</td>\n",
       "      <td>gate_40</td>\n",
       "      <td>165</td>\n",
       "      <td>True</td>\n",
       "      <td>False</td>\n",
       "    </tr>\n",
       "    <tr>\n",
       "      <th>3</th>\n",
       "      <td>483</td>\n",
       "      <td>gate_40</td>\n",
       "      <td>1</td>\n",
       "      <td>False</td>\n",
       "      <td>False</td>\n",
       "    </tr>\n",
       "    <tr>\n",
       "      <th>4</th>\n",
       "      <td>488</td>\n",
       "      <td>gate_40</td>\n",
       "      <td>179</td>\n",
       "      <td>True</td>\n",
       "      <td>True</td>\n",
       "    </tr>\n",
       "  </tbody>\n",
       "</table>\n",
       "</div>"
      ],
      "text/plain": [
       "   userid  version  sum_gamerounds  retention_1  retention_7\n",
       "0     116  gate_30               3        False        False\n",
       "1     337  gate_30              38         True        False\n",
       "2     377  gate_40             165         True        False\n",
       "3     483  gate_40               1        False        False\n",
       "4     488  gate_40             179         True         True"
      ]
     },
     "execution_count": 29,
     "metadata": {},
     "output_type": "execute_result"
    }
   ],
   "source": [
    "#Import libs\n",
    "import pandas as pd \n",
    "import matplotlib.pyplot as plt\n",
    "import math\n",
    "\n",
    "#import data \n",
    "df = pd.read_csv('cookie_cats.csv')\n",
    "\n",
    "df.head()"
   ]
  },
  {
   "cell_type": "code",
   "execution_count": 7,
   "metadata": {},
   "outputs": [
    {
     "data": {
      "text/plain": [
       "(90189, 5)"
      ]
     },
     "execution_count": 7,
     "metadata": {},
     "output_type": "execute_result"
    }
   ],
   "source": [
    "df.shape"
   ]
  },
  {
   "cell_type": "markdown",
   "metadata": {},
   "source": [
    "90,189 rows, 5 columns. \n",
    "Clean data, then split into A/B groups. "
   ]
  },
  {
   "cell_type": "code",
   "execution_count": 25,
   "metadata": {},
   "outputs": [
    {
     "data": {
      "text/plain": [
       "False"
      ]
     },
     "execution_count": 25,
     "metadata": {},
     "output_type": "execute_result"
    }
   ],
   "source": [
    "#check for duplicated UIDs \n",
    "df.duplicated(subset=['userid']).any()"
   ]
  },
  {
   "cell_type": "code",
   "execution_count": 26,
   "metadata": {},
   "outputs": [
    {
     "data": {
      "text/html": [
       "<div>\n",
       "<style scoped>\n",
       "    .dataframe tbody tr th:only-of-type {\n",
       "        vertical-align: middle;\n",
       "    }\n",
       "\n",
       "    .dataframe tbody tr th {\n",
       "        vertical-align: top;\n",
       "    }\n",
       "\n",
       "    .dataframe thead th {\n",
       "        text-align: right;\n",
       "    }\n",
       "</style>\n",
       "<table border=\"1\" class=\"dataframe\">\n",
       "  <thead>\n",
       "    <tr style=\"text-align: right;\">\n",
       "      <th></th>\n",
       "      <th>userid</th>\n",
       "      <th>version</th>\n",
       "      <th>sum_gamerounds</th>\n",
       "      <th>retention_1</th>\n",
       "      <th>retention_7</th>\n",
       "    </tr>\n",
       "  </thead>\n",
       "  <tbody>\n",
       "  </tbody>\n",
       "</table>\n",
       "</div>"
      ],
      "text/plain": [
       "Empty DataFrame\n",
       "Columns: [userid, version, sum_gamerounds, retention_1, retention_7]\n",
       "Index: []"
      ]
     },
     "execution_count": 26,
     "metadata": {},
     "output_type": "execute_result"
    }
   ],
   "source": [
    "#Check for empty rows\n",
    "df[df.isna().any(axis=1)]"
   ]
  },
  {
   "cell_type": "code",
   "execution_count": 27,
   "metadata": {},
   "outputs": [
    {
     "data": {
      "text/plain": [
       "(44700, 5)"
      ]
     },
     "execution_count": 27,
     "metadata": {},
     "output_type": "execute_result"
    }
   ],
   "source": [
    "#Split the datasets\n",
    "a30 = df[df['version'] == 'gate_30']\n",
    "b40 = df[df['version'] == 'gate_40']\n",
    "\n",
    "a30.shape"
   ]
  },
  {
   "cell_type": "code",
   "execution_count": 28,
   "metadata": {},
   "outputs": [
    {
     "data": {
      "text/plain": [
       "(45489, 5)"
      ]
     },
     "execution_count": 28,
     "metadata": {},
     "output_type": "execute_result"
    }
   ],
   "source": [
    "b40.shape"
   ]
  },
  {
   "cell_type": "markdown",
   "metadata": {},
   "source": [
    "### Addressing hypothesis 1\n",
    "Does the A/B group have an effect on the number of rounds completed? Concretely, is there a statistically significant difference between the number of rounds completed between groups?\n",
    "\n",
    "**Approach**\n",
    "\n",
    "Population statistics are unknown (mean, sd), therefore a t-test will be used to compare sample means. \n",
    "It is unknown if A should be better than B, or vice versa, therefore a 2 tailed test will be used. \n",
    "\n",
    "A standard confidence level on 95% will be used. \n",
    "\n",
    "**Formula**\n",
    "\n",
    "t statistic = (meanA - meanB) / root( (sdA^2 / n of A ) + (sdB^2 / n of B))"
   ]
  },
  {
   "cell_type": "code",
   "execution_count": 31,
   "metadata": {},
   "outputs": [
    {
     "data": {
      "text/plain": [
       "0.8854374331270672"
      ]
     },
     "execution_count": 31,
     "metadata": {},
     "output_type": "execute_result"
    }
   ],
   "source": [
    "#mean \n",
    "aMu = A30['sum_gamerounds'].mean()\n",
    "bMu = B40['sum_gamerounds'].mean()\n",
    "#Sample size\n",
    "aN = A30.shape[0]\n",
    "bN = B40.shape[0]\n",
    "#StDev\n",
    "aSigma = A30['sum_gamerounds'].std()\n",
    "bSigma = B40['sum_gamerounds'].std()\n",
    "#test statistic\n",
    "tstat = (aMu - bMu) / math.sqrt( ((aSigma**2) / aN) + ((bSigma**2) / bN) )\n",
    "tstat"
   ]
  },
  {
   "cell_type": "code",
   "execution_count": 33,
   "metadata": {},
   "outputs": [
    {
     "data": {
      "text/plain": [
       "44699"
      ]
     },
     "execution_count": 33,
     "metadata": {},
     "output_type": "execute_result"
    }
   ],
   "source": [
    "#degrees of freedom\n",
    "degfreedom = min(aN, bN) - 1\n",
    "degfreedom"
   ]
  },
  {
   "cell_type": "markdown",
   "metadata": {},
   "source": [
    "Looking up a critical value for a 2-tailed t test with df = 44699, alpha = 0.05 => 1.960\n",
    "\n",
    "The value of 0.8854374331270672 is very well within the critical value and acceptance region. For this reason we can say with at least 95% confidence, (and actually far more than this), that the A/B test had no effect on the number of levels completed.\n",
    "\n",
    "**We have failed to reject the null hypothesis.**"
   ]
  },
  {
   "cell_type": "code",
   "execution_count": 36,
   "metadata": {},
   "outputs": [
    {
     "data": {
      "text/plain": [
       "1.157488453953249"
      ]
     },
     "execution_count": 36,
     "metadata": {},
     "output_type": "execute_result"
    }
   ],
   "source": [
    "#This result is unsurprising, since the difference between the means  of the two groups is actually very small: \n",
    "aMu - bMu "
   ]
  },
  {
   "cell_type": "markdown",
   "metadata": {},
   "source": [
    "### Addressing hypothesis 2\n",
    "Does the A/B group have a statistically significant effect on 1 day user retention? \n",
    "\n",
    "**Approach**\n",
    "\n",
    "It is unknown if A should be better than B, or vice versa, therefore a 2 Tailed test will be used. \n",
    "\n",
    "A standard confidence level of 95% will be used. \n",
    "\n",
    "**Formula**\n",
    "\n",
    "Z statistic = (proportionA - proportionB) / root( ((proportionA * 1-proportionA) / (aN)) +  ((proportionB * 1-proportionB) / (bN)) )"
   ]
  },
  {
   "cell_type": "code",
   "execution_count": 46,
   "metadata": {},
   "outputs": [
    {
     "data": {
      "text/plain": [
       "1.7840972718297632"
      ]
     },
     "execution_count": 46,
     "metadata": {},
     "output_type": "execute_result"
    }
   ],
   "source": [
    "#sample sizes\n",
    "aN\n",
    "bN\n",
    "#Proportions \n",
    "propA = a30[ a30['retention_1'] == True].shape[0] / aN\n",
    "propB = b40[ b40['retention_1'] == True].shape[0] / bN\n",
    "#inverse proportions\n",
    "propnotA = 1-propA\n",
    "propnotB = 1-propB\n",
    "#Z Statistic \n",
    "(propA - propB) / math.sqrt( ((propA*propnotA) / aN) + ((propB*propnotB) / bN) )"
   ]
  },
  {
   "cell_type": "markdown",
   "metadata": {},
   "source": [
    "Looking this value up in a Z-table, this gives a probability of => 0.9625.\n",
    "\n",
    "The threshold for a 95% confidence on a 2 tailed test is 1- (0.05/2) = 0.975\n",
    "\n",
    "0.9625 < 0.975, therefore there is insufficient evidence to conclude with 95% certainty that the observed difference between sample proportions is a result of something other than chance. \n",
    "\n",
    "**We have failed to reject the null hypothesis**"
   ]
  },
  {
   "cell_type": "code",
   "execution_count": 48,
   "metadata": {},
   "outputs": [
    {
     "data": {
      "text/plain": [
       "0.005905169787341458"
      ]
     },
     "execution_count": 48,
     "metadata": {},
     "output_type": "execute_result"
    }
   ],
   "source": [
    "#The difference between proportions in this case was: \n",
    "propA - propB\n",
    "#only half a percent"
   ]
  },
  {
   "cell_type": "markdown",
   "metadata": {},
   "source": [
    "### Addressing hypothesis 3\n",
    "The same approach to answering hypothesis 2 can be applied to answering hypothesis 3"
   ]
  },
  {
   "cell_type": "code",
   "execution_count": 49,
   "metadata": {},
   "outputs": [
    {
     "data": {
      "text/plain": [
       "3.1640640401490985"
      ]
     },
     "execution_count": 49,
     "metadata": {},
     "output_type": "execute_result"
    }
   ],
   "source": [
    "#sample sizes\n",
    "aN\n",
    "bN\n",
    "#Proportions \n",
    "propA2 = a30[ a30['retention_7'] == True].shape[0] / aN\n",
    "propB2 = b40[ b40['retention_7'] == True].shape[0] / bN\n",
    "#inverse proportions\n",
    "propnotA2 = 1-propA2\n",
    "propnotB2 = 1-propB2\n",
    "#Z Statistic \n",
    "(propA2 - propB2) / math.sqrt( ((propA2*propnotA2) / aN) + ((propB2*propnotB2) / bN) )"
   ]
  },
  {
   "cell_type": "markdown",
   "metadata": {},
   "source": [
    "Looking this value up in a Z table gives a probability of => 0.9992.\n",
    "\n",
    "the threshold for aa 95% confidence on a 2 tailed test is 1- (0.05/2) = 0.975\n",
    "\n",
    "0.9992 > 0.975, therefore there is a less than 5% chance of the observed results occuring if the null hypothesis were true. \n",
    "\n",
    "**The null hypothesis is rejected, the alternative hypothesis is accepted. The placement of the gate does have a statistically significant effect on the 7 day retention of users.**  The observed effect is in the favour of A."
   ]
  },
  {
   "cell_type": "code",
   "execution_count": null,
   "metadata": {},
   "outputs": [],
   "source": []
  }
 ],
 "metadata": {
  "kernelspec": {
   "display_name": "Python 3",
   "language": "python",
   "name": "python3"
  },
  "language_info": {
   "codemirror_mode": {
    "name": "ipython",
    "version": 3
   },
   "file_extension": ".py",
   "mimetype": "text/x-python",
   "name": "python",
   "nbconvert_exporter": "python",
   "pygments_lexer": "ipython3",
   "version": "3.8.5"
  }
 },
 "nbformat": 4,
 "nbformat_minor": 4
}
